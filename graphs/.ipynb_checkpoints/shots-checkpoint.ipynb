{
 "cells": [
  {
   "cell_type": "code",
   "execution_count": 1,
   "id": "5d90b637",
   "metadata": {},
   "outputs": [],
   "source": [
    "from statsbombpy import sb"
   ]
  },
  {
   "cell_type": "code",
   "execution_count": 2,
   "id": "8d89a5d3",
   "metadata": {},
   "outputs": [
    {
     "name": "stderr",
     "output_type": "stream",
     "text": [
      "C:\\Users\\alexa\\anaconda3\\lib\\site-packages\\statsbombpy\\api_client.py:20: NoAuthWarning: credentials were not supplied. open data access only\n",
      "  warnings.warn(\"credentials were not supplied. open data access only\", NoAuthWarning)\n"
     ]
    }
   ],
   "source": [
    "events = sb.events(match_id=3773585)"
   ]
  },
  {
   "cell_type": "code",
   "execution_count": 4,
   "id": "d0e164ee",
   "metadata": {},
   "outputs": [],
   "source": [
    "shots = events.loc[(events['player'] == \"Karim Benzema\") & (events['type'] == 'Shot')]"
   ]
  },
  {
   "cell_type": "code",
   "execution_count": 5,
   "id": "109ef7f9",
   "metadata": {},
   "outputs": [
    {
     "data": {
      "text/plain": [
       "3998      Saved\n",
       "3999    Blocked\n",
       "4004      Off T\n",
       "Name: shot_outcome, dtype: object"
      ]
     },
     "execution_count": 5,
     "metadata": {},
     "output_type": "execute_result"
    }
   ],
   "source": [
    "shots[\"shot_outcome\"]"
   ]
  },
  {
   "cell_type": "code",
   "execution_count": 6,
   "id": "b61c0837",
   "metadata": {},
   "outputs": [],
   "source": [
    "shot_outcome = {\n",
    "    \"Blocked\": \"Blocked\",\n",
    "    \"Goal\": \"Goal\",\n",
    "    \"Off T\": \"Off Target\",\n",
    "    \"Post\": \"Off Target\",\n",
    "    \"Saved\": \"On Target\",\n",
    "    \"Wayward\": \"Off Target\",\n",
    "    \"Saved Off T\": \"Off Target\",\n",
    "    \"Saved To Post\": \"On Target\"\n",
    "}"
   ]
  },
  {
   "cell_type": "code",
   "execution_count": 15,
   "id": "a316e8b0",
   "metadata": {},
   "outputs": [],
   "source": [
    "location_blocked = shots[shots[\"shot_outcome\"] == \"Blocked\"]['location'].tolist()\n",
    "blocked_end_location = shots[shots[\"shot_outcome\"] == \"Blocked\"]['shot_end_location'].tolist()\n",
    "location_goal = shots[shots[\"shot_outcome\"] == \"Goal\"]['location'].tolist()\n",
    "goal_end_location = shots[shots[\"shot_outcome\"] == \"Goal\"]['shot_end_location'].tolist()\n",
    "location_on_target = shots[(shots[\"shot_outcome\"] == \"Saved\") | (shots[\"shot_outcome\"] == \"Saved To Post\")]['location'].tolist()\n",
    "on_target_end_location = shots[(shots[\"shot_outcome\"] == \"Saved\") | (shots[\"shot_outcome\"] == \"Saved To Post\")]['shot_end_location'].tolist()\n",
    "location_off_target = shots[(shots[\"shot_outcome\"] == \"Off T\") | (shots[\"shot_outcome\"] == \"Post\") | (shots[\"shot_outcome\"] == \"Wayward\") | (shots[\"shot_outcome\"] == \"Saved Off T\")]['location'].tolist()\n",
    "off_target_end_location = shots[(shots[\"shot_outcome\"] == \"Off T\") | (shots[\"shot_outcome\"] == \"Post\") | (shots[\"shot_outcome\"] == \"Wayward\") | (shots[\"shot_outcome\"] == \"Saved Off T\")]['shot_end_location'].tolist()"
   ]
  },
  {
   "cell_type": "code",
   "execution_count": 17,
   "id": "64e7cc9d",
   "metadata": {},
   "outputs": [],
   "source": [
    "import pandas as pd"
   ]
  },
  {
   "cell_type": "code",
   "execution_count": 18,
   "id": "29ecb100",
   "metadata": {},
   "outputs": [],
   "source": [
    "x1_blocked = pd.Series([el[0] for el in location_blocked])\n",
    "y1_blocked = pd.Series([el[1] for el in location_blocked])\n",
    "x2_blocked = pd.Series([el[0] for el in blocked_end_location])\n",
    "y2_blocked = pd.Series([el[1] for el in blocked_end_location])"
   ]
  },
  {
   "cell_type": "code",
   "execution_count": 20,
   "id": "083b0418",
   "metadata": {},
   "outputs": [
    {
     "name": "stderr",
     "output_type": "stream",
     "text": [
      "C:\\Users\\alexa\\AppData\\Local\\Temp/ipykernel_14860/2387673869.py:1: DeprecationWarning: The default dtype for empty Series will be 'object' instead of 'float64' in a future version. Specify a dtype explicitly to silence this warning.\n",
      "  x1_goal = pd.Series([el[0] for el in location_goal])\n",
      "C:\\Users\\alexa\\AppData\\Local\\Temp/ipykernel_14860/2387673869.py:2: DeprecationWarning: The default dtype for empty Series will be 'object' instead of 'float64' in a future version. Specify a dtype explicitly to silence this warning.\n",
      "  y1_goal = pd.Series([el[1] for el in location_goal])\n",
      "C:\\Users\\alexa\\AppData\\Local\\Temp/ipykernel_14860/2387673869.py:3: DeprecationWarning: The default dtype for empty Series will be 'object' instead of 'float64' in a future version. Specify a dtype explicitly to silence this warning.\n",
      "  x2_goal = pd.Series([el[0] for el in goal_end_location])\n",
      "C:\\Users\\alexa\\AppData\\Local\\Temp/ipykernel_14860/2387673869.py:4: DeprecationWarning: The default dtype for empty Series will be 'object' instead of 'float64' in a future version. Specify a dtype explicitly to silence this warning.\n",
      "  y2_goal = pd.Series([el[1] for el in goal_end_location])\n"
     ]
    }
   ],
   "source": [
    "x1_goal = pd.Series([el[0] for el in location_goal])\n",
    "y1_goal = pd.Series([el[1] for el in location_goal])\n",
    "x2_goal = pd.Series([el[0] for el in goal_end_location])\n",
    "y2_goal = pd.Series([el[1] for el in goal_end_location])"
   ]
  },
  {
   "cell_type": "code",
   "execution_count": 21,
   "id": "d4dbf86e",
   "metadata": {},
   "outputs": [],
   "source": [
    "x1_ont = pd.Series([el[0] for el in location_on_target])\n",
    "y1_ont = pd.Series([el[1] for el in location_on_target])\n",
    "x2_ont = pd.Series([el[0] for el in on_target_end_location])\n",
    "y2_ont = pd.Series([el[1] for el in on_target_end_location])"
   ]
  },
  {
   "cell_type": "code",
   "execution_count": 22,
   "id": "2b4b8005",
   "metadata": {},
   "outputs": [],
   "source": [
    "x1_offt = pd.Series([el[0] for el in location_off_target])\n",
    "y1_offt = pd.Series([el[1] for el in location_off_target])\n",
    "x2_offt = pd.Series([el[0] for el in off_target_end_location])\n",
    "y2_offt = pd.Series([el[1] for el in off_target_end_location])"
   ]
  },
  {
   "cell_type": "code",
   "execution_count": 25,
   "id": "10ab6c5e",
   "metadata": {},
   "outputs": [
    {
     "data": {
      "image/png": "[encoded data removed]",
      "text/plain": [
       "<Figure size 864x576 with 1 Axes>"
      ]
     },
     "metadata": {},
     "output_type": "display_data"
    }
   ],
   "source": [
    "from mplsoccer import Pitch\n",
    "import matplotlib.pyplot as plt\n",
    "\n",
    "# Setup the pitch\n",
    "pitch = Pitch(pitch_type='statsbomb', pitch_color='#FFFFFF', line_color='#000000')\n",
    "fig, ax = pitch.draw(figsize=(12, 8))\n",
    "\n",
    "pitch.arrows(x1_blocked, y1_blocked,\n",
    "             x2_blocked, y2_blocked, width=2,\n",
    "             headwidth=6, headlength=6, color='#F39C12', ax=ax, label='Blocked')\n",
    "\n",
    "pitch.arrows(x1_goal, y1_goal,\n",
    "             x2_goal, y2_goal, width=2,\n",
    "             headwidth=6, headlength=6, color='#F4D03F', ax=ax, label='Goals')\n",
    "\n",
    "pitch.arrows(x1_ont, y1_ont,\n",
    "             x2_ont, y2_ont, width=2,\n",
    "             headwidth=6, headlength=6, color='#3CD74A', ax=ax, label='On target')\n",
    "\n",
    "pitch.arrows(x1_offt, y1_offt,\n",
    "             x2_offt, y2_offt, width=2,\n",
    "             headwidth=6, headlength=6, color='#F31515', ax=ax, label='Off target')\n",
    "\n",
    "# Setup the legend\n",
    "ax.legend(facecolor='#D4DADC', handlelength=5, edgecolor='None', fontsize=14, loc='best')\n",
    "plt.show()"
   ]
  },
  {
   "cell_type": "code",
   "execution_count": null,
   "id": "bb36f040",
   "metadata": {},
   "outputs": [],
   "source": []
  }
 ],
 "metadata": {
  "kernelspec": {
   "display_name": "Python 3 (ipykernel)",
   "language": "python",
   "name": "python3"
  },
  "language_info": {
   "codemirror_mode": {
    "name": "ipython",
    "version": 3
   },
   "file_extension": ".py",
   "mimetype": "text/x-python",
   "name": "python",
   "nbconvert_exporter": "python",
   "pygments_lexer": "ipython3",
   "version": "3.8.5"
  }
 },
 "nbformat": 4,
 "nbformat_minor": 5
}
