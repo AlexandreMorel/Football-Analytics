{
 "cells": [
  {
   "cell_type": "code",
   "execution_count": 1,
   "id": "b92d68e4",
   "metadata": {},
   "outputs": [],
   "source": [
    "from statsbombpy import sb"
   ]
  },
  {
   "cell_type": "code",
   "execution_count": 2,
   "id": "15aabb98",
   "metadata": {},
   "outputs": [
    {
     "name": "stderr",
     "output_type": "stream",
     "text": [
      "C:\\Users\\alexa\\anaconda3\\lib\\site-packages\\statsbombpy\\api_client.py:20: NoAuthWarning: credentials were not supplied. open data access only\n",
      "  warnings.warn(\"credentials were not supplied. open data access only\", NoAuthWarning)\n"
     ]
    }
   ],
   "source": [
    "events = sb.events(match_id=3773585)"
   ]
  },
  {
   "cell_type": "code",
   "execution_count": 28,
   "id": "ef8f477e",
   "metadata": {},
   "outputs": [],
   "source": [
    "events_messi = events[events[\"player\"] == \"Ferland Mendy\"]"
   ]
  },
  {
   "cell_type": "code",
   "execution_count": 29,
   "id": "1eee9a9f",
   "metadata": {},
   "outputs": [],
   "source": [
    "location = events_messi['location'].tolist()"
   ]
  },
  {
   "cell_type": "code",
   "execution_count": 30,
   "id": "3f2ccb7b",
   "metadata": {},
   "outputs": [],
   "source": [
    "location_clean = [item for item in location if str(item) != 'nan']"
   ]
  },
  {
   "cell_type": "code",
   "execution_count": 31,
   "id": "3d31821a",
   "metadata": {},
   "outputs": [
    {
     "data": {
      "text/plain": [
       "[[42.9, 3.8],\n",
       " [29.9, 0.1],\n",
       " [16.1, 13.8],\n",
       " [29.0, 15.4],\n",
       " [50.6, 8.0],\n",
       " [14.1, 23.8],\n",
       " [27.8, 22.5],\n",
       " [72.0, 4.5],\n",
       " [56.4, 9.5],\n",
       " [81.8, 12.0],\n",
       " [95.7, 5.0],\n",
       " [79.4, 17.1],\n",
       " [40.3, 4.1],\n",
       " [92.4, 4.5],\n",
       " [22.9, 13.3],\n",
       " [54.8, 12.4],\n",
       " [42.9, 29.6],\n",
       " [76.2, 13.1],\n",
       " [99.9, 9.8],\n",
       " [85.3, 9.1],\n",
       " [81.2, 14.6],\n",
       " [35.2, 9.1],\n",
       " [57.7, 10.7],\n",
       " [60.7, 9.8],\n",
       " [78.0, 8.4],\n",
       " [71.5, 10.5],\n",
       " [117.1, 22.5],\n",
       " [84.4, 12.3],\n",
       " [72.0, 36.0],\n",
       " [27.8, 18.7],\n",
       " [91.1, 7.3],\n",
       " [78.9, 11.9],\n",
       " [85.3, 17.2],\n",
       " [94.2, 11.6],\n",
       " [14.7, 9.5],\n",
       " [98.6, 16.6],\n",
       " [11.2, 0.1],\n",
       " [32.0, 0.1],\n",
       " [79.8, 13.0],\n",
       " [62.0, 7.0],\n",
       " [19.3, 15.0],\n",
       " [69.2, 15.5],\n",
       " [3.2, 2.2],\n",
       " [10.6, 0.1],\n",
       " [37.5, 4.7],\n",
       " [36.1, 5.9],\n",
       " [70.9, 11.1],\n",
       " [21.4, 10.2],\n",
       " [18.2, 7.0],\n",
       " [5.9, 8.4],\n",
       " [40.5, 9.3],\n",
       " [45.4, 6.1],\n",
       " [46.5, 6.1],\n",
       " [76.7, 16.7],\n",
       " [64.2, 16.0],\n",
       " [46.2, 4.1],\n",
       " [16.1, 11.1],\n",
       " [108.7, 26.6],\n",
       " [27.8, 15.4],\n",
       " [49.9, 7.8],\n",
       " [15.0, 23.2],\n",
       " [69.0, 6.6],\n",
       " [58.7, 7.5],\n",
       " [80.6, 12.5],\n",
       " [105.7, 5.4],\n",
       " [79.0, 14.7],\n",
       " [86.9, 7.5],\n",
       " [17.5, 9.9],\n",
       " [42.4, 15.7],\n",
       " [34.0, 24.8],\n",
       " [38.7, 20.8],\n",
       " [99.0, 8.2],\n",
       " [81.2, 14.6],\n",
       " [34.3, 7.9],\n",
       " [57.7, 10.7],\n",
       " [61.9, 9.8],\n",
       " [70.4, 11.4],\n",
       " [78.2, 7.9],\n",
       " [99.3, 16.7],\n",
       " [85.6, 12.3],\n",
       " [21.1, 28.0],\n",
       " [85.3, 12.3],\n",
       " [77.6, 14.0],\n",
       " [85.3, 16.9],\n",
       " [92.5, 8.1],\n",
       " [29.3, 15.3],\n",
       " [71.8, 4.5],\n",
       " [74.7, 32.5],\n",
       " [59.7, 10.0],\n",
       " [19.2, 14.7],\n",
       " [59.0, 21.6],\n",
       " [5.3, 4.9],\n",
       " [91.1, 4.0],\n",
       " [39.6, 6.1],\n",
       " [36.1, 5.9],\n",
       " [69.3, 8.2],\n",
       " [20.8, 5.9],\n",
       " [44.8, 6.1],\n",
       " [46.5, 6.1],\n",
       " [76.7, 16.7],\n",
       " [78.2, 18.3],\n",
       " [46.2, 4.1],\n",
       " [16.1, 11.1],\n",
       " [27.8, 15.4],\n",
       " [49.9, 7.8],\n",
       " [22.9, 23.2],\n",
       " [69.0, 6.6],\n",
       " [58.7, 7.5],\n",
       " [105.7, 5.4],\n",
       " [79.0, 14.7],\n",
       " [39.9, 2.9],\n",
       " [86.9, 7.5],\n",
       " [42.4, 15.7],\n",
       " [34.0, 24.8],\n",
       " [99.0, 8.2],\n",
       " [86.1, 9.1],\n",
       " [34.3, 7.9],\n",
       " [57.7, 10.7],\n",
       " [61.9, 9.8],\n",
       " [70.4, 11.4],\n",
       " [78.2, 7.9],\n",
       " [99.3, 16.7],\n",
       " [85.6, 12.3],\n",
       " [21.1, 28.0],\n",
       " [85.3, 12.3],\n",
       " [77.6, 14.0],\n",
       " [85.3, 16.9],\n",
       " [92.5, 8.1],\n",
       " [29.3, 15.3],\n",
       " [71.8, 4.5],\n",
       " [10.1, 19.5],\n",
       " [74.7, 32.5],\n",
       " [59.7, 10.0],\n",
       " [19.2, 14.7],\n",
       " [59.0, 21.6],\n",
       " [5.3, 4.9],\n",
       " [91.1, 4.0],\n",
       " [39.6, 6.1],\n",
       " [36.1, 5.9],\n",
       " [69.3, 8.2],\n",
       " [20.8, 5.9],\n",
       " [44.8, 6.1],\n",
       " [76.7, 16.7],\n",
       " [78.2, 18.3],\n",
       " [79.4, 8.3],\n",
       " [94.6, 6.6],\n",
       " [8.0, 11.1],\n",
       " [115.5, 15.8],\n",
       " [50.4, 9.8],\n",
       " [42.6, 4.4],\n",
       " [9.8, 1.9],\n",
       " [28.7, 2.2],\n",
       " [6.1, 3.3],\n",
       " [7.8, 3.3],\n",
       " [3.2, 1.7],\n",
       " [91.9, 9.3],\n",
       " [22.9, 23.2],\n",
       " [39.9, 2.9],\n",
       " [86.1, 9.1],\n",
       " [10.1, 19.5],\n",
       " [106.3, 7.9],\n",
       " [79.7, 4.7],\n",
       " [23.5, 10.0],\n",
       " [7.5, 18.8],\n",
       " [5.9, 48.2]]"
      ]
     },
     "execution_count": 31,
     "metadata": {},
     "output_type": "execute_result"
    }
   ],
   "source": [
    "location_clean"
   ]
  },
  {
   "cell_type": "code",
   "execution_count": 32,
   "id": "7fa3cee8",
   "metadata": {},
   "outputs": [],
   "source": [
    "x = pd.Series([el[0] for el in location_clean])\n",
    "y = pd.Series([el[1] for el in location_clean])"
   ]
  },
  {
   "cell_type": "code",
   "execution_count": 33,
   "id": "6feff6d6",
   "metadata": {},
   "outputs": [],
   "source": [
    "import matplotlib.patheffects as path_effects\n",
    "import matplotlib.pyplot as plt\n",
    "import numpy as np\n",
    "import pandas as pd\n",
    "from matplotlib.colors import LinearSegmentedColormap\n",
    "from scipy.ndimage import gaussian_filter\n",
    "from mplsoccer import Pitch, VerticalPitch"
   ]
  },
  {
   "cell_type": "code",
   "execution_count": 34,
   "id": "26b30787",
   "metadata": {},
   "outputs": [
    {
     "data": {
      "image/png": "[encoded data removed]",
      "text/plain": [
       "<Figure size 864x576 with 2 Axes>"
      ]
     },
     "metadata": {},
     "output_type": "display_data"
    }
   ],
   "source": [
    "# setup pitch\n",
    "pitch = Pitch(pitch_type='statsbomb', line_zorder=2,\n",
    "              pitch_color='#22312b', line_color='#efefef')\n",
    "# draw\n",
    "fig, ax = pitch.draw(figsize=(12, 8))\n",
    "fig.set_facecolor('#22312b')\n",
    "bin_statistic = pitch.bin_statistic(x, y, statistic='count', bins=(25, 25))\n",
    "bin_statistic['statistic'] = gaussian_filter(bin_statistic['statistic'], 1)\n",
    "pcm = pitch.heatmap(bin_statistic, ax=ax, cmap='hot', edgecolors='#22312b') #YlOrRd\n",
    "# Add the colorbar and format off-white\n",
    "cbar = fig.colorbar(pcm, ax=ax, shrink=0.6)\n",
    "cbar.outline.set_edgecolor('#efefef')\n",
    "cbar.ax.yaxis.set_tick_params(color='#efefef')\n",
    "plt.setp(plt.getp(cbar.ax.axes, 'yticklabels'), color='#efefef')\n",
    "plt.show()"
   ]
  },
  {
   "cell_type": "code",
   "execution_count": null,
   "id": "d65d3993",
   "metadata": {},
   "outputs": [],
   "source": []
  }
 ],
 "metadata": {
  "kernelspec": {
   "display_name": "Python 3 (ipykernel)",
   "language": "python",
   "name": "python3"
  },
  "language_info": {
   "codemirror_mode": {
    "name": "ipython",
    "version": 3
   },
   "file_extension": ".py",
   "mimetype": "text/x-python",
   "name": "python",
   "nbconvert_exporter": "python",
   "pygments_lexer": "ipython3",
   "version": "3.8.5"
  }
 },
 "nbformat": 4,
 "nbformat_minor": 5
}
