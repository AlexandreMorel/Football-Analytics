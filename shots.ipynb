{
 "cells": [
  {
   "cell_type": "code",
   "execution_count": 1,
   "id": "5d90b637",
   "metadata": {},
   "outputs": [],
   "source": [
    "from statsbombpy import sb"
   ]
  },
  {
   "cell_type": "code",
   "execution_count": 2,
   "id": "8d89a5d3",
   "metadata": {},
   "outputs": [
    {
     "name": "stderr",
     "output_type": "stream",
     "text": [
      "C:\\Users\\alexa\\anaconda3\\lib\\site-packages\\statsbombpy\\api_client.py:20: NoAuthWarning: credentials were not supplied. open data access only\n",
      "  warnings.warn(\"credentials were not supplied. open data access only\", NoAuthWarning)\n"
     ]
    }
   ],
   "source": [
    "events = sb.events(match_id=3773585)"
   ]
  },
  {
   "cell_type": "code",
   "execution_count": 3,
   "id": "d0e164ee",
   "metadata": {},
   "outputs": [],
   "source": [
    "shots = events.loc[(events['player'] == \"Karim Benzema\") & (events['type'] == 'Shot')]"
   ]
  },
  {
   "cell_type": "code",
   "execution_count": 12,
   "id": "109ef7f9",
   "metadata": {},
   "outputs": [
    {
     "data": {
      "text/plain": [
       "3998      Saved\n",
       "3999    Blocked\n",
       "4004      Off T\n",
       "Name: shot_outcome, dtype: object"
      ]
     },
     "execution_count": 12,
     "metadata": {},
     "output_type": "execute_result"
    }
   ],
   "source": [
    "shots[\"shot_outcome\"]"
   ]
  },
  {
   "cell_type": "code",
   "execution_count": null,
   "id": "b61c0837",
   "metadata": {},
   "outputs": [],
   "source": [
    "shot_outcome = {\n",
    "    \"Blocked\": \"Blocked\",\n",
    "    \"Goal\": \"Goal\",\n",
    "    \"Off T\": \"Off Target\",\n",
    "    \"Post\": \"Off Target\",\n",
    "    \"Saved\": \"On Target\",\n",
    "    \"Wayward\": \"Off Target\",\n",
    "    \"Saved Off T\": \"Off Target\",\n",
    "    \"Saved To Post\": \"On Target\"\n",
    "}"
   ]
  },
  {
   "cell_type": "code",
   "execution_count": null,
   "id": "a316e8b0",
   "metadata": {},
   "outputs": [],
   "source": [
    "location_blocked = shots[shots[\"shot_outcome\"] == \"Blocked\"]['location'].tolist()\n",
    "blocked_end_location = shots[shots[\"shot_outcome\"] == \"Blocked\"]['shot_end_location'].tolist()\n",
    "location_goal = shots[shots[\"shot_outcome\"] == \"Goal\"]['location'].tolist()\n",
    "goal_end_location = shots[shots[\"shot_outcome\"] == \"Goal\"]['shot_end_location'].tolist()\n",
    "location_on_target = shots[shots[\"shot_outcome\"] == \"Saved\" | shots[\"shot_outcome\"] == \"Saved To Post\"]['location'].tolist()\n",
    "on_target_end_location = shots[shots[\"shot_outcome\"] == \"Saved\" | shots[\"shot_outcome\"] == \"Saved To Post\"]]['shot_end_location'].tolist()\n",
    "location_off_target = \n",
    "off_target_location = "
   ]
  }
 ],
 "metadata": {
  "kernelspec": {
   "display_name": "Python 3 (ipykernel)",
   "language": "python",
   "name": "python3"
  },
  "language_info": {
   "codemirror_mode": {
    "name": "ipython",
    "version": 3
   },
   "file_extension": ".py",
   "mimetype": "text/x-python",
   "name": "python",
   "nbconvert_exporter": "python",
   "pygments_lexer": "ipython3",
   "version": "3.8.5"
  }
 },
 "nbformat": 4,
 "nbformat_minor": 5
}
