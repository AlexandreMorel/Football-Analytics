{
 "cells": [
  {
   "cell_type": "code",
   "execution_count": 2,
   "id": "7d6187a8",
   "metadata": {},
   "outputs": [],
   "source": [
    "from statsbombpy import sb"
   ]
  },
  {
   "cell_type": "code",
   "execution_count": null,
   "id": "ff34d24d",
   "metadata": {},
   "outputs": [],
   "source": [
    "sb.competitions()"
   ]
  },
  {
   "cell_type": "code",
   "execution_count": null,
   "id": "cf554f61",
   "metadata": {},
   "outputs": [],
   "source": [
    "df_matches = sb.matches(competition_id=11, season_id=90)"
   ]
  },
  {
   "cell_type": "code",
   "execution_count": null,
   "id": "803b4883",
   "metadata": {},
   "outputs": [],
   "source": [
    "match_week = df_matches[\"match_week\"].tolist()\n",
    "match_week.sort()\n",
    "print(match_week)"
   ]
  },
  {
   "cell_type": "code",
   "execution_count": 3,
   "id": "d364cc63",
   "metadata": {},
   "outputs": [
    {
     "name": "stderr",
     "output_type": "stream",
     "text": [
      "C:\\Users\\alexa\\anaconda3\\lib\\site-packages\\statsbombpy\\api_client.py:20: NoAuthWarning: credentials were not supplied. open data access only\n",
      "  warnings.warn(\"credentials were not supplied. open data access only\", NoAuthWarning)\n"
     ]
    }
   ],
   "source": [
    "events = sb.events(match_id=3773585)"
   ]
  },
  {
   "cell_type": "code",
   "execution_count": 4,
   "id": "244f325c",
   "metadata": {},
   "outputs": [
    {
     "data": {
      "text/plain": [
       "Index(['bad_behaviour_card', 'ball_receipt_outcome',\n",
       "       'ball_recovery_recovery_failure', 'block_deflection', 'block_offensive',\n",
       "       'carry_end_location', 'clearance_aerial_won', 'clearance_body_part',\n",
       "       'clearance_head', 'clearance_left_foot', 'clearance_right_foot',\n",
       "       'counterpress', 'dribble_nutmeg', 'dribble_outcome', 'dribble_overrun',\n",
       "       'duel_outcome', 'duel_type', 'duration', 'foul_committed_advantage',\n",
       "       'foul_committed_card', 'foul_committed_penalty', 'foul_committed_type',\n",
       "       'foul_won_advantage', 'foul_won_defensive', 'foul_won_penalty',\n",
       "       'goalkeeper_body_part', 'goalkeeper_end_location', 'goalkeeper_outcome',\n",
       "       'goalkeeper_position', 'goalkeeper_technique', 'goalkeeper_type', 'id',\n",
       "       'index', 'injury_stoppage_in_chain', 'interception_outcome', 'location',\n",
       "       'match_id', 'minute', 'off_camera', 'out', 'pass_aerial_won',\n",
       "       'pass_angle', 'pass_assisted_shot_id', 'pass_body_part', 'pass_cross',\n",
       "       'pass_cut_back', 'pass_deflected', 'pass_end_location',\n",
       "       'pass_goal_assist', 'pass_height', 'pass_inswinging', 'pass_length',\n",
       "       'pass_no_touch', 'pass_outcome', 'pass_outswinging', 'pass_recipient',\n",
       "       'pass_shot_assist', 'pass_switch', 'pass_technique',\n",
       "       'pass_through_ball', 'pass_type', 'period', 'play_pattern', 'player',\n",
       "       'player_id', 'position', 'possession', 'possession_team',\n",
       "       'possession_team_id', 'related_events', 'second', 'shot_aerial_won',\n",
       "       'shot_body_part', 'shot_end_location', 'shot_first_time',\n",
       "       'shot_freeze_frame', 'shot_key_pass_id', 'shot_one_on_one',\n",
       "       'shot_outcome', 'shot_statsbomb_xg', 'shot_technique', 'shot_type',\n",
       "       'substitution_outcome', 'substitution_replacement', 'tactics', 'team',\n",
       "       'timestamp', 'type', 'under_pressure'],\n",
       "      dtype='object')"
      ]
     },
     "execution_count": 4,
     "metadata": {},
     "output_type": "execute_result"
    }
   ],
   "source": [
    "events.columns"
   ]
  },
  {
   "cell_type": "code",
   "execution_count": 6,
   "id": "2fa32c26",
   "metadata": {},
   "outputs": [],
   "source": [
    "assists = events.loc[events[\"pass_goal_assist\"] == True]"
   ]
  },
  {
   "cell_type": "code",
   "execution_count": 8,
   "id": "04fb4b3f",
   "metadata": {},
   "outputs": [
    {
     "data": {
      "text/plain": [
       "94              Karim Benzema\n",
       "126          Jordi Alba Ramos\n",
       "1143    Rodrygo Silva de Goes\n",
       "Name: player, dtype: object"
      ]
     },
     "execution_count": 8,
     "metadata": {},
     "output_type": "execute_result"
    }
   ],
   "source": [
    "assists[\"player\"]"
   ]
  },
  {
   "cell_type": "code",
   "execution_count": null,
   "id": "49a61c70",
   "metadata": {},
   "outputs": [],
   "source": [
    "events[\"player\"].value_counts()"
   ]
  },
  {
   "cell_type": "code",
   "execution_count": null,
   "id": "0cf48a2f",
   "metadata": {},
   "outputs": [],
   "source": [
    "events[\"type\"].value_counts()"
   ]
  },
  {
   "cell_type": "code",
   "execution_count": null,
   "id": "15df1bcc",
   "metadata": {},
   "outputs": [],
   "source": [
    "events[\"player\"].dropna().unique()"
   ]
  },
  {
   "cell_type": "code",
   "execution_count": null,
   "id": "fe63649b",
   "metadata": {},
   "outputs": [],
   "source": [
    "events_messi = events[events[\"player\"] == \"Lionel Andrés Messi Cuccittini\"]"
   ]
  },
  {
   "cell_type": "code",
   "execution_count": null,
   "id": "b20c4fc4",
   "metadata": {},
   "outputs": [],
   "source": [
    "events_messi[\"type\"].value_counts()"
   ]
  },
  {
   "cell_type": "code",
   "execution_count": null,
   "id": "5543133d",
   "metadata": {},
   "outputs": [],
   "source": [
    "events_messi"
   ]
  },
  {
   "cell_type": "code",
   "execution_count": null,
   "id": "0d7a960d",
   "metadata": {},
   "outputs": [],
   "source": [
    "sb.lineups(match_id=3773585)[\"Barcelona\"]"
   ]
  },
  {
   "cell_type": "code",
   "execution_count": null,
   "id": "cb7b59b9",
   "metadata": {},
   "outputs": [],
   "source": [
    "df_pass = events.loc[(events['player'] == \"Toni Kroos\") & (events['type'] == 'Pass')]"
   ]
  },
  {
   "cell_type": "code",
   "execution_count": null,
   "id": "5035339c",
   "metadata": {},
   "outputs": [],
   "source": [
    "df_pass"
   ]
  },
  {
   "cell_type": "code",
   "execution_count": null,
   "id": "b6bc6a3c",
   "metadata": {},
   "outputs": [],
   "source": [
    "location = df_pass['location'].tolist()"
   ]
  },
  {
   "cell_type": "code",
   "execution_count": null,
   "id": "201bd34e",
   "metadata": {},
   "outputs": [],
   "source": [
    "pass_end_location = df_pass['pass_end_location'].tolist()"
   ]
  },
  {
   "cell_type": "code",
   "execution_count": null,
   "id": "20772e74",
   "metadata": {},
   "outputs": [],
   "source": [
    "import pandas as pd\n",
    "\n",
    "pd.Series(location)"
   ]
  },
  {
   "cell_type": "code",
   "execution_count": null,
   "id": "d2a20bea",
   "metadata": {},
   "outputs": [],
   "source": [
    "for loc in location:\n",
    "    print(loc[0])\n",
    "    print(loc[1])"
   ]
  },
  {
   "cell_type": "code",
   "execution_count": null,
   "id": "06e0a4c3",
   "metadata": {},
   "outputs": [],
   "source": [
    "x1 = pd.Series([el[0] for el in location])"
   ]
  },
  {
   "cell_type": "code",
   "execution_count": null,
   "id": "db6b25b1",
   "metadata": {},
   "outputs": [],
   "source": [
    "y1 = pd.Series([el[1] for el in location])"
   ]
  },
  {
   "cell_type": "code",
   "execution_count": null,
   "id": "d2274bda",
   "metadata": {},
   "outputs": [],
   "source": [
    "x2 = pd.Series([el[0] for el in pass_end_location])"
   ]
  },
  {
   "cell_type": "code",
   "execution_count": null,
   "id": "facf2ffd",
   "metadata": {},
   "outputs": [],
   "source": [
    "y2 = pd.Series([el[1] for el in pass_end_location])"
   ]
  },
  {
   "cell_type": "code",
   "execution_count": null,
   "id": "d72ec55c",
   "metadata": {},
   "outputs": [],
   "source": [
    "from matplotlib import rcParams\n",
    "import matplotlib.pyplot as plt\n",
    "from matplotlib.colors import LinearSegmentedColormap\n",
    "\n",
    "from mplsoccer import Pitch, FontManager\n",
    "\n",
    "rcParams['text.color'] = '#c7d5cc'  # set the default text color\n",
    "\n",
    "pitch = Pitch(pitch_type='statsbomb',  line_zorder=2, line_color='#c7d5cc', pitch_color='#22312b')\n",
    "bins = (6, 4)\n",
    "\n",
    "fig, ax = pitch.draw(figsize=(16, 11), constrained_layout=True, tight_layout=True)\n",
    "fig.set_facecolor('#22312b')\n",
    "# plot the heatmap - darker colors = more passes originating from that square\n",
    "bs_heatmap = pitch.bin_statistic(x1, y1, statistic='count', bins=bins)\n",
    "hm = pitch.heatmap(bs_heatmap, ax=ax, cmap='Reds')\n",
    "# plot the pass flow map with a custom color map and the arrows scaled by the average pass length\n",
    "# the longer the arrow the greater the average pass length in the cell\n",
    "grey = LinearSegmentedColormap.from_list('custom cmap', ['#DADADA', 'black'])\n",
    "fm = pitch.flow(x1, y1, x2, y2, cmap=grey,\n",
    "                arrow_type='scale', arrow_length=15, bins=bins, ax=ax)"
   ]
  },
  {
   "cell_type": "code",
   "execution_count": null,
   "id": "81567cf9",
   "metadata": {},
   "outputs": [],
   "source": [
    "pitch = Pitch(pitch_type='statsbomb',  line_zorder=2, line_color='#c7d5cc', pitch_color='#22312b')\n",
    "bins = (6, 4)\n",
    "fig, ax = pitch.draw(figsize=(16, 11), constrained_layout=True, tight_layout=False)\n",
    "fig.set_facecolor('#22312b')\n",
    "# plot the heatmap - darker colors = more passes originating from that square\n",
    "bs_heatmap = pitch.bin_statistic(x1, y1, statistic='count', bins=bins)\n",
    "hm = pitch.heatmap(bs_heatmap, ax=ax, cmap='Greens')\n",
    "# plot the pass flow map with a single color and the\n",
    "# arrow length equal to the average distance in the cell\n",
    "fm = pitch.flow(x1, y1, x2, y2, color='black',\n",
    "                arrow_type='average', bins=bins, ax=ax)"
   ]
  },
  {
   "cell_type": "code",
   "execution_count": 5,
   "id": "f8ef6122",
   "metadata": {},
   "outputs": [],
   "source": [
    "df_pass_messi = events.loc[(events['player'] == \"Lionel Andrés Messi Cuccittini\") & (events['type'] == 'Pass')]"
   ]
  },
  {
   "cell_type": "code",
   "execution_count": null,
   "id": "4747fd0c",
   "metadata": {},
   "outputs": [],
   "source": [
    "mask_complete = df_pass_messi.pass_outcome.isnull()"
   ]
  },
  {
   "cell_type": "code",
   "execution_count": null,
   "id": "1d34a348",
   "metadata": {},
   "outputs": [],
   "source": [
    "location = df_pass_messi[mask_complete]['location'].tolist()\n",
    "pass_end_location = df_pass_messi[mask_complete]['pass_end_location'].tolist()"
   ]
  },
  {
   "cell_type": "code",
   "execution_count": null,
   "id": "31e06db3",
   "metadata": {},
   "outputs": [],
   "source": [
    "x1_completed = pd.Series([el[0] for el in location])\n",
    "y1_completed = pd.Series([el[1] for el in location])\n",
    "x2_completed = pd.Series([el[0] for el in pass_end_location])\n",
    "y2_completed = pd.Series([el[1] for el in pass_end_location])"
   ]
  },
  {
   "cell_type": "code",
   "execution_count": null,
   "id": "100a1aa2",
   "metadata": {},
   "outputs": [],
   "source": [
    "location2 = df_pass_messi[~mask_complete]['location'].tolist()\n",
    "pass_end_location2 = df_pass_messi[~mask_complete]['pass_end_location'].tolist()"
   ]
  },
  {
   "cell_type": "code",
   "execution_count": null,
   "id": "0ecc447f",
   "metadata": {},
   "outputs": [],
   "source": [
    "x1_not_completed = pd.Series([el[0] for el in location2])\n",
    "y1_not_completed = pd.Series([el[1] for el in location2])\n",
    "x2_not_completed = pd.Series([el[0] for el in pass_end_location2])\n",
    "y2_not_completed = pd.Series([el[1] for el in pass_end_location2])"
   ]
  },
  {
   "cell_type": "code",
   "execution_count": null,
   "id": "7a16eef3",
   "metadata": {},
   "outputs": [],
   "source": [
    "# Setup the pitch\n",
    "pitch = Pitch(pitch_type='statsbomb', pitch_color='#FFFFFF', line_color='#000000')\n",
    "fig, ax = pitch.draw(figsize=(12, 8))\n",
    "\n",
    "# Plot the completed passes\n",
    "pitch.arrows(x1_completed, y1_completed,\n",
    "             x2_completed, y2_completed, width=2,\n",
    "             headwidth=6, headlength=6, color='#3CD74A', ax=ax, label='completed passes')\n",
    "\n",
    "# Plot the other passes\n",
    "pitch.arrows(x1_not_completed, y1_not_completed,\n",
    "             x2_not_completed, y2_not_completed, width=2,\n",
    "             headwidth=6, headlength=6,\n",
    "             color='#F31515', ax=ax, label='other passes')\n",
    "\n",
    "# setup the legend\n",
    "ax.legend(facecolor='#22312b', handlelength=5, edgecolor='None', fontsize=14, loc='upper left')\n",
    "plt.show()"
   ]
  },
  {
   "cell_type": "code",
   "execution_count": null,
   "id": "f29b2744",
   "metadata": {},
   "outputs": [],
   "source": [
    "# Setup the pitch\n",
    "pitch = Pitch(pitch_type='statsbomb', pitch_color='#FFFFFF', line_color='#000000')\n",
    "fig, ax = pitch.draw(figsize=(12, 8))\n",
    "\n",
    "# Plot the completed passes\n",
    "pitch.arrows(x1_completed, y1_completed,\n",
    "             x2_completed, y2_completed, width=2,\n",
    "             headwidth=6, headlength=6, color='#3CD74A', ax=ax, label='completed passes')\n",
    "\n",
    "# Plot the other passes\n",
    "pitch.arrows(x1_not_completed, y1_not_completed,\n",
    "             x2_not_completed, y2_not_completed, width=2,\n",
    "             headwidth=6, headlength=6,\n",
    "             color='#F31515', ax=ax, label='other passes')\n",
    "\n",
    "# setup the legend\n",
    "ax.legend(facecolor='#22312b', handlelength=5, edgecolor='None', fontsize=14, loc='upper left')\n",
    "plt.show()"
   ]
  }
 ],
 "metadata": {
  "kernelspec": {
   "display_name": "Python 3 (ipykernel)",
   "language": "python",
   "name": "python3"
  },
  "language_info": {
   "codemirror_mode": {
    "name": "ipython",
    "version": 3
   },
   "file_extension": ".py",
   "mimetype": "text/x-python",
   "name": "python",
   "nbconvert_exporter": "python",
   "pygments_lexer": "ipython3",
   "version": "3.8.5"
  }
 },
 "nbformat": 4,
 "nbformat_minor": 5
}
